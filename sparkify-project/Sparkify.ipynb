{
 "cells": [
  {
   "cell_type": "markdown",
   "metadata": {},
   "source": [
    "# Sparkify Project Workspace\n",
    "\n",
    "This project is about identifying customers of music streaming services that are going to churn. It PySpark.  "
   ]
  },
  {
   "cell_type": "code",
   "execution_count": 1,
   "metadata": {},
   "outputs": [],
   "source": [
    "# import libraries\n",
    "import pandas as pd\n",
    "from pyspark.sql import SparkSession\n",
    "from pyspark.sql.types import IntegerType, LongType, TimestampType\n",
    "from pyspark import SparkContext\n",
    "from pyspark.sql.window import Window\n",
    "from pyspark.sql.functions import * \n",
    "from pyspark.ml.feature import VectorAssembler, StandardScaler\n",
    "from pyspark.ml import Pipeline\n",
    "from pyspark.ml.classification import RandomForestClassifier, LogisticRegression, GBTClassifier\n",
    "from pyspark.ml.evaluation import BinaryClassificationEvaluator, MulticlassClassificationEvaluator\n",
    "from pyspark.ml.tuning import ParamGridBuilder, CrossValidator\n",
    "import datetime\n",
    "import matplotlib.pyplot as plt"
   ]
  },
  {
   "cell_type": "code",
   "execution_count": 2,
   "metadata": {},
   "outputs": [],
   "source": [
    "# create a Spark session\n",
    "\n",
    "spark = SparkSession \\\n",
    "    .builder \\\n",
    "    .master(\"local\") \\\n",
    "    .appName(\"Sparkify Project\") \\\n",
    "    .getOrCreate()\n"
   ]
  },
  {
   "cell_type": "markdown",
   "metadata": {},
   "source": [
    "# Load and Clean Dataset\n",
    "In this workspace, the mini-dataset file is `mini_sparkify_event_data.json`. Load and clean the dataset, checking for invalid or missing data - for example, records without userids or sessionids. "
   ]
  },
  {
   "cell_type": "code",
   "execution_count": 3,
   "metadata": {},
   "outputs": [],
   "source": [
    "df = spark.read.json(\"mini_sparkify_event_data.json\")"
   ]
  },
  {
   "cell_type": "code",
   "execution_count": 4,
   "metadata": {},
   "outputs": [
    {
     "name": "stdout",
     "output_type": "stream",
     "text": [
      "root\n",
      " |-- artist: string (nullable = true)\n",
      " |-- auth: string (nullable = true)\n",
      " |-- firstName: string (nullable = true)\n",
      " |-- gender: string (nullable = true)\n",
      " |-- itemInSession: long (nullable = true)\n",
      " |-- lastName: string (nullable = true)\n",
      " |-- length: double (nullable = true)\n",
      " |-- level: string (nullable = true)\n",
      " |-- location: string (nullable = true)\n",
      " |-- method: string (nullable = true)\n",
      " |-- page: string (nullable = true)\n",
      " |-- registration: long (nullable = true)\n",
      " |-- sessionId: long (nullable = true)\n",
      " |-- song: string (nullable = true)\n",
      " |-- status: long (nullable = true)\n",
      " |-- ts: long (nullable = true)\n",
      " |-- userAgent: string (nullable = true)\n",
      " |-- userId: string (nullable = true)\n",
      "\n"
     ]
    }
   ],
   "source": [
    "df.printSchema()"
   ]
  },
  {
   "cell_type": "code",
   "execution_count": 5,
   "metadata": {},
   "outputs": [
    {
     "data": {
      "text/plain": [
       "DataFrame[summary: string, artist: string, auth: string, firstName: string, gender: string, itemInSession: string, lastName: string, length: string, level: string, location: string, method: string, page: string, registration: string, sessionId: string, song: string, status: string, ts: string, userAgent: string, userId: string]"
      ]
     },
     "execution_count": 5,
     "metadata": {},
     "output_type": "execute_result"
    }
   ],
   "source": [
    "# drop null values and empty user IDs\n",
    "\n",
    "df_valid = df.dropna(how = \"any\", subset = [\"userId\", \"sessionId\", \"page\"])\n",
    "df_valid = df_valid.select(\"userId\").dropDuplicates().sort(\"userId\")\n",
    "df_valid = df.filter(df[\"userId\"] != \"\")\n",
    "df_valid.describe()"
   ]
  },
  {
   "cell_type": "markdown",
   "metadata": {},
   "source": [
    "# Data Exploration\n"
   ]
  },
  {
   "cell_type": "markdown",
   "metadata": {},
   "source": [
    "### Explore Page Column\n",
    "\n",
    "'Page' column is an important one as it gives information about different user behaviours. Let's explore it further with a bar plot. "
   ]
  },
  {
   "cell_type": "code",
   "execution_count": 10,
   "metadata": {},
   "outputs": [
    {
     "data": {
      "image/png": "[encoded data removed]",
      "text/plain": [
       "<Figure size 720x360 with 1 Axes>"
      ]
     },
     "metadata": {
      "needs_background": "light"
     },
     "output_type": "display_data"
    }
   ],
   "source": [
    "page_counts = df_valid.groupBy('page').count()\n",
    "page_counts_df = page_counts.orderBy(col(\"count\").desc()).toPandas()\n",
    "fig = page_counts_df.plot(kind='bar',x='page', y='count', figsize=(10,5)).get_figure()\n",
    "fig.savefig(\"page_bar.png\")"
   ]
  },
  {
   "cell_type": "markdown",
   "metadata": {},
   "source": [
    "Most users have selected NextSong, let's filter this out to better see the distribution of the other user behaviours. "
   ]
  },
  {
   "cell_type": "code",
   "execution_count": null,
   "metadata": {},
   "outputs": [],
   "source": [
    "page_counts_filtered_df = page_counts_df[page_counts_df['page']!='NextSong']\n",
    "page_counts_filtered_df.plot(kind='bar',x='page', y='count', figsize=(12,6))"
   ]
  },
  {
   "cell_type": "markdown",
   "metadata": {},
   "source": [
    "### Define Churn\n",
    "\n",
    "Next, we define churn - this in terms of cancellation confirmation and downgrade-related events. Even if dowgrade does not necessarily mean the customer would definitely leave, it is an indicator of potentially decreasing customer satisfaction, lower revenue for the streaming service and also an indicator that the customer might change their mind if they're shown some love and attention. So these are the events we want to be able to identify.    "
   ]
  },
  {
   "cell_type": "code",
   "execution_count": null,
   "metadata": {},
   "outputs": [],
   "source": [
    "#UDFs\n",
    "def is_churn_event(x):\n",
    "    \n",
    "    '''Flags churn events. Returns 1 for churn, 0 for no-churn.'''\n",
    "    \n",
    "    if x in [\"Cancellation Confirmation\", \"Downgrade\", \"Submit Downgrade\"]:\n",
    "        return 1\n",
    "    else:\n",
    "        return 0 \n"
   ]
  },
  {
   "cell_type": "markdown",
   "metadata": {},
   "source": [
    "### Define Happy and Unhappy User Behaviours\n",
    "\n",
    "The Page column includes other user behaviours that are essential for the analysis - I split them into positive/ happy user events and negative/ unhappy events. "
   ]
  },
  {
   "cell_type": "code",
   "execution_count": null,
   "metadata": {},
   "outputs": [],
   "source": [
    "def is_happy_event(x):\n",
    "    \n",
    "    '''Flags happy events. Returns 1 for happy events, 0 otherwise.'''\n",
    "    \n",
    "    if x in [\"NextSong\", \"Thumbs Up\", \"Add Friend\", \"Add to Playlist\", \"Upgrade\", \"Submit Upgrade\"]:\n",
    "        return 1\n",
    "    else:\n",
    "        return 0\n",
    "    \n",
    "def is_unhappy_event(x):\n",
    "    \n",
    "    '''Flags unhappy events. Returns 1 for unhappy events, 0 otherwise.'''\n",
    "    \n",
    "    if x in [\"Thumbs Down\", \"Error\", \"Cancel\", ]:\n",
    "        return 1\n",
    "    else:\n",
    "        return 0"
   ]
  },
  {
   "cell_type": "code",
   "execution_count": null,
   "metadata": {},
   "outputs": [],
   "source": [
    "## define UDFs\n",
    "\n",
    "churn_event = udf(is_churn_event, IntegerType())\n",
    "happy_event = udf(is_happy_event, IntegerType())\n",
    "unhappy_event = udf(is_unhappy_event, IntegerType())\n",
    "\n",
    "get_hour = udf(lambda x: datetime.datetime.fromtimestamp(x / 1000.0). hour)\n",
    "get_day = udf(lambda x: datetime.datetime.fromtimestamp(x / 1000.0). day)"
   ]
  },
  {
   "cell_type": "code",
   "execution_count": null,
   "metadata": {},
   "outputs": [],
   "source": [
    "## Add Churn/ Happy / Unhappy events to dataframe\n",
    "## Add Hour / Day / Interaction time features to dataframe\n",
    "df_valid =  df_valid.withColumn(\"churn\", churn_event(\"page\"))\\\n",
    "            .withColumn(\"happyEvent\", happy_event(\"page\"))\\\n",
    "            .withColumn(\"unhappyEvent\", unhappy_event(\"page\"))\\\n",
    "            .withColumn(\"hour\", get_hour(\"ts\").cast('int'))\\\n",
    "            .withColumn(\"day\", get_day(\"ts\").cast('int'))\\\n",
    "            .withColumn('interactionTime', from_unixtime(col('ts').cast(LongType())/1000).cast(TimestampType()))\n",
    "\n",
    "\n",
    "# Flag rows for churn / happy / unhappy events.\n",
    "user_window = Window\\\n",
    "                .partitionBy(\"userId\")\\\n",
    "                .orderBy(desc(\"ts\"))\\\n",
    "                .rangeBetween(Window.unboundedPreceding, 0)\n",
    "\n",
    "df_valid = df_valid\\\n",
    "            .withColumn(\"churn\", max(\"churn\").over(user_window))\\\n",
    "            .withColumn(\"happyEvent\", max(\"happyEvent\").over(user_window))\\\n",
    "            .withColumn(\"unhappyEvent\", max(\"unhappyEvent\").over(user_window))\n"
   ]
  },
  {
   "cell_type": "code",
   "execution_count": null,
   "metadata": {},
   "outputs": [],
   "source": [
    "df_valid.head()\n"
   ]
  },
  {
   "cell_type": "markdown",
   "metadata": {},
   "source": [
    "# Feature Exploration \n",
    "\n",
    "### User Journey\n",
    "\n",
    "Let's see the journey of a single customer who cancelled. "
   ]
  },
  {
   "cell_type": "code",
   "execution_count": null,
   "metadata": {},
   "outputs": [],
   "source": [
    "# find users who cancelled\n",
    "df_valid.select(['userID']).where(df_valid.churn==1).dropDuplicates().show()\n"
   ]
  },
  {
   "cell_type": "code",
   "execution_count": null,
   "metadata": {},
   "outputs": [],
   "source": [
    "# pick one\n",
    "user_cancelled_df = df_valid.select([\"firstName\", \"page\", \"level\", \"song\", \n",
    "                                  \"hour\", \"day\", \"interactionTime\", \n",
    "                                  \"happyEvent\", \"unhappyEvent\"]).where(df_valid.userId == 101).toPandas()\n",
    "user_cancelled_df.head()"
   ]
  },
  {
   "cell_type": "code",
   "execution_count": null,
   "metadata": {},
   "outputs": [],
   "source": [
    "## Print some stats about this particular user journey\n",
    "\n",
    "print(f\"Alex's Membership Days : {user_cancelled_df.day.max()}\")\n",
    "print(f\"Numbers of Songs Alex Listened to: {user_cancelled_df[user_cancelled_df['page']=='NextSong']['page'].count()}\")\n",
    "print(f\"Alex's Happy Events: {user_cancelled_df.happyEvent.sum()}\")\n",
    "print(f\"Alex's Unhappy Events: {user_cancelled_df.unhappyEvent.sum()}\")\n"
   ]
  },
  {
   "cell_type": "markdown",
   "metadata": {},
   "source": [
    "## Compare Features between Churn and No-Churn User Groups\n",
    "\n",
    "### Churn by Level - Free vs Paid"
   ]
  },
  {
   "cell_type": "code",
   "execution_count": null,
   "metadata": {},
   "outputs": [],
   "source": [
    "churn_by_level_df = df_valid.select('userId','level','churn')\\\n",
    "                                    .groupby('churn','level')\\\n",
    "                                    .agg(countDistinct('userId'))\\\n",
    "                                    .withColumnRenamed('count(DISTINCT userId)', 'count')\\\n",
    "                                    .toPandas()\n"
   ]
  },
  {
   "cell_type": "code",
   "execution_count": null,
   "metadata": {},
   "outputs": [],
   "source": [
    "churn_by_level_df.pivot(index='churn', columns='level', values='count').plot(kind='bar')"
   ]
  },
  {
   "cell_type": "markdown",
   "metadata": {},
   "source": [
    "### Churn by Number of Sessions"
   ]
  },
  {
   "cell_type": "code",
   "execution_count": null,
   "metadata": {},
   "outputs": [],
   "source": [
    "churn_by_sessions_df = df_valid.select(\"sessionId\", \"churn\")\\\n",
    "                                .groupby('churn')\\\n",
    "                                .agg(countDistinct('sessionId'))\\\n",
    "                                .withColumnRenamed('count(DISTINCT sessionId)', 'sessionsCount').toPandas().set_index('churn')"
   ]
  },
  {
   "cell_type": "code",
   "execution_count": null,
   "metadata": {},
   "outputs": [],
   "source": [
    "churn_by_sessions_df.plot(kind='bar',)"
   ]
  },
  {
   "cell_type": "markdown",
   "metadata": {},
   "source": [
    "### Churn by Number of Songs "
   ]
  },
  {
   "cell_type": "code",
   "execution_count": null,
   "metadata": {},
   "outputs": [],
   "source": [
    "churn_by_songs_df = df_valid.select(\"userId\", \"churn\",\"page\")\\\n",
    "                            .where(df_valid.page == \"NextSong\")\\\n",
    "                            .groupby(\"churn\")\\\n",
    "                            .agg(countDistinct(\"userId\"))\\\n",
    "                            .withColumnRenamed('count(DISTINCT userId)', 'songsCount').toPandas().set_index('churn')"
   ]
  },
  {
   "cell_type": "code",
   "execution_count": null,
   "metadata": {},
   "outputs": [],
   "source": [
    "churn_by_songs_df.plot(kind='bar')"
   ]
  },
  {
   "cell_type": "markdown",
   "metadata": {},
   "source": [
    "### Churn by Gender"
   ]
  },
  {
   "cell_type": "code",
   "execution_count": null,
   "metadata": {},
   "outputs": [],
   "source": [
    "churn_by_gender_df = df_valid.select('userId', 'churn', 'gender')\\\n",
    "                             .groupby(['churn', 'gender'])\\\n",
    "                             .agg(countDistinct('userId'))\\\n",
    "                             .withColumnRenamed('count(DISTINCT userId)', 'userCount').toPandas()"
   ]
  },
  {
   "cell_type": "code",
   "execution_count": null,
   "metadata": {},
   "outputs": [],
   "source": [
    "churn_by_gender_df.pivot(index='churn', columns='gender', values='userCount').plot(kind='bar')"
   ]
  },
  {
   "cell_type": "markdown",
   "metadata": {},
   "source": [
    "### Churn by Happy Events"
   ]
  },
  {
   "cell_type": "code",
   "execution_count": null,
   "metadata": {},
   "outputs": [],
   "source": [
    "churn_by_happy_events_df = df_valid.select('userId', 'churn', 'happyEvent')\\\n",
    "                                   .groupby('churn')\\\n",
    "                                   .agg(sum('happyEvent'))\\\n",
    "                                   .withColumnRenamed('sum(happyEvent)', 'happyEvents').toPandas().set_index('churn')"
   ]
  },
  {
   "cell_type": "code",
   "execution_count": null,
   "metadata": {},
   "outputs": [],
   "source": [
    "churn_by_happy_events_df.plot(kind='bar')"
   ]
  },
  {
   "cell_type": "code",
   "execution_count": null,
   "metadata": {},
   "outputs": [],
   "source": [
    "#churn by unhappy event\n",
    "churn_by_unhappy_events_df = df_valid.select('userId', 'churn', 'unhappyEvent')\\\n",
    "                                   .groupby('churn')\\\n",
    "                                   .agg(sum('unhappyEvent'))\\\n",
    "                                   .withColumnRenamed('sum(unhappyEvent)', 'unhappyEvents').toPandas().set_index('churn')"
   ]
  },
  {
   "cell_type": "markdown",
   "metadata": {},
   "source": [
    "### Churn by Unhappy Events"
   ]
  },
  {
   "cell_type": "code",
   "execution_count": null,
   "metadata": {},
   "outputs": [],
   "source": [
    "churn_by_unhappy_events_df.plot(kind='bar')"
   ]
  },
  {
   "cell_type": "markdown",
   "metadata": {},
   "source": [
    "# Feature Engineering\n",
    "Once you've familiarized yourself with the data, build out the features you find promising to train your model on. To work with the full dataset, you can follow the following steps.\n",
    "- Write a script to extract the necessary features from the smaller subset of data\n",
    "- Ensure that your script is scalable, using the best practices discussed in Lesson 3\n",
    "- Try your script on the full data set, debugging your script if necessary\n",
    "\n",
    "If you are working in the classroom workspace, you can just extract features based on the small subset of data contained here. Be sure to transfer over this work to the larger dataset when you work on your Spark cluster."
   ]
  },
  {
   "cell_type": "code",
   "execution_count": null,
   "metadata": {},
   "outputs": [],
   "source": [
    "# number of songs played\n",
    "songs_count_df = df_valid.select(['userId', 'page',]).where(df.page == 'NextSong') \\\n",
    "                                .groupby('userId') \\\n",
    "                                .agg({'page':'count'}) \\\n",
    "                                .withColumnRenamed('count(page)', 'songsCount')\n"
   ]
  },
  {
   "cell_type": "code",
   "execution_count": null,
   "metadata": {},
   "outputs": [],
   "source": [
    "#count number of sessions\n",
    "\n",
    "sessions_count_df = df_valid.select(['userId', 'sessionId'])\\\n",
    "                            .groupby('userId')\\\n",
    "                            .agg({'sessionId': 'count'})\\\n",
    "                            .withColumnRenamed('count(sessionId)', 'sessionsCount')\n"
   ]
  },
  {
   "cell_type": "code",
   "execution_count": null,
   "metadata": {},
   "outputs": [],
   "source": [
    "#membership period\n",
    "membership_days_df = df_valid.select(['userId', 'day'])\\\n",
    "                            .groupby('userId')\\\n",
    "                            .agg(max('day'))\\\n",
    "                            .withColumnRenamed('max(day)', 'membershipDays')\n"
   ]
  },
  {
   "cell_type": "code",
   "execution_count": null,
   "metadata": {},
   "outputs": [],
   "source": [
    "#happy events count\n",
    "happy_events_count_df = df_valid.select(['userId', 'happyEvent',])\\\n",
    "                                .groupby('userId') \\\n",
    "                                .agg(sum('happyEvent'))\\\n",
    "                                .withColumnRenamed('sum(happyEvent)','happyEventCount')"
   ]
  },
  {
   "cell_type": "code",
   "execution_count": null,
   "metadata": {},
   "outputs": [],
   "source": [
    "unhappy_events_count_df = df_valid.select(['userId', 'unhappyEvent',])\\\n",
    "                                .groupby('userId') \\\n",
    "                                .agg(sum('unhappyEvent'))\\\n",
    "                                .withColumnRenamed('sum(unhappyEvent)','unhappyEventCount')"
   ]
  },
  {
   "cell_type": "code",
   "execution_count": null,
   "metadata": {},
   "outputs": [],
   "source": [
    "churn_event_df = df_valid.select(['userId', 'churn',])\\\n",
    "                                .groupby('userId')\\\n",
    "                                .agg(max('churn'))\\\n",
    "                                .withColumnRenamed('max(churn)', 'label')"
   ]
  },
  {
   "cell_type": "code",
   "execution_count": null,
   "metadata": {},
   "outputs": [],
   "source": [
    "data = songs_count_df.join(sessions_count_df, 'userId', 'outer') \\\n",
    "                     .join(membership_days_df, 'userId', 'outer')\\\n",
    "                     .join(happy_events_count_df, 'userId', 'outer')\\\n",
    "                     .join(unhappy_events_count_df, 'userId', 'outer')\\\n",
    "                     .join(churn_event_df, 'userId', 'outer')\n"
   ]
  },
  {
   "cell_type": "code",
   "execution_count": null,
   "metadata": {},
   "outputs": [],
   "source": [
    "pd.DataFrame(data.take(5), columns=data.columns)"
   ]
  },
  {
   "cell_type": "code",
   "execution_count": null,
   "metadata": {},
   "outputs": [],
   "source": [
    "data.printSchema()"
   ]
  },
  {
   "cell_type": "markdown",
   "metadata": {},
   "source": [
    "# Modeling\n",
    "Split the full dataset into train, test, and validation sets. Test out several of the machine learning methods you learned. Evaluate the accuracy of the various models, tuning parameters as necessary. Determine your winning model based on test accuracy and report results on the validation set. Since the churned users are a fairly small subset, I suggest using F1 score as the metric to optimize."
   ]
  },
  {
   "cell_type": "code",
   "execution_count": null,
   "metadata": {},
   "outputs": [],
   "source": [
    "train, test = data.randomSplit([0.7, 0.3], seed=27)\n",
    "print(\"Training Dataset Count: \" + str(train.count()))\n",
    "print(\"Test Dataset Count: \" + str(test.count()))\n"
   ]
  },
  {
   "cell_type": "code",
   "execution_count": null,
   "metadata": {},
   "outputs": [],
   "source": [
    "features = ['songsCount' , 'sessionsCount', \n",
    "            'membershipDays' , 'happyEventCount', \n",
    "            'unhappyEventCount' \n",
    "           ]\n",
    "\n",
    "classifiers = [ RandomForestClassifier(featuresCol = 'features', labelCol = 'label'), \n",
    "                LogisticRegression(featuresCol = 'features', labelCol = 'label', maxIter=10), \n",
    "                GBTClassifier(maxIter=10)\n",
    "              ]\n",
    "classifier_names = [ \"Random Forest Classifier\", \n",
    "                     \"Logistic Regression\", \n",
    "                     \"Gradient-Boosted Tree Classifier\"\n",
    "                   ]\n"
   ]
  },
  {
   "cell_type": "code",
   "execution_count": null,
   "metadata": {},
   "outputs": [],
   "source": [
    "def build_model_pipeline (classifier, train): \n",
    "    \n",
    "    '''Input is a classifier and data for training\n",
    "    Returns fitted model. \n",
    "    '''\n",
    "    \n",
    "    vectorAssembler = VectorAssembler(inputCols=features, \\\n",
    "                                      outputCol=\"unscaled_features\"\n",
    "                                     )\n",
    "    standardScaler = StandardScaler(inputCol=\"unscaled_features\", \n",
    "                                    outputCol=\"features\"\n",
    "                                   )\n",
    "    stages = [vectorAssembler, standardScaler, classifier]\n",
    "    pipeline = Pipeline(stages=stages)\n",
    "    model = pipeline.fit(train)\n",
    "    \n",
    "    return model\n",
    "    "
   ]
  },
  {
   "cell_type": "markdown",
   "metadata": {},
   "source": [
    "## Evaluation"
   ]
  },
  {
   "cell_type": "code",
   "execution_count": null,
   "metadata": {},
   "outputs": [],
   "source": [
    "def evaluate_model (model, train, test):\n",
    "    \n",
    "    '''Takes as input a fitted model, train data and test data.\n",
    "    Returns evaluation results: \n",
    "    f1 score on train data\n",
    "    ROC AUC metric on train data\n",
    "    f1 score on test data\n",
    "    ROC AUC metric on test data\n",
    "    '''\n",
    "    \n",
    "    # instantiate evaluators \n",
    "    binary_evaluator = BinaryClassificationEvaluator(labelCol='label')\n",
    "    multi_evaluator = MulticlassClassificationEvaluator(labelCol='label')\n",
    "    \n",
    "    # make predictions  \n",
    "    predictions_train = model.transform(train)\n",
    "    predictions_test = model.transform(test)\n",
    "    \n",
    "    f1_train = multi_evaluator.evaluate(predictions_train, {multi_evaluator.metricName: 'f1'})\n",
    "    roc_train = binary_evaluator.evaluate(predictions_train, {binary_evaluator.metricName: 'areaUnderROC'})\n",
    "    \n",
    "    f1_test = multi_evaluator.evaluate(predictions_test, {multi_evaluator.metricName: 'f1'})\n",
    "    roc_test = binary_evaluator.evaluate(predictions_test, {binary_evaluator.metricName: 'areaUnderROC'})\n",
    "    \n",
    "    results = [ f1_train, roc_train, f1_test, roc_test ]\n",
    "    return results\n",
    "\n",
    "\n",
    "    "
   ]
  },
  {
   "cell_type": "code",
   "execution_count": null,
   "metadata": {},
   "outputs": [],
   "source": [
    "all_results = dict()\n",
    "\n",
    "for classifier, name in zip(classifiers, classifier_names):\n",
    "    \n",
    "    model = build_model_pipeline(classifier, train)\n",
    "    result = evaluate_model(model, train, test)\n",
    "    all_results[name] = result\n",
    "    \n"
   ]
  },
  {
   "cell_type": "code",
   "execution_count": null,
   "metadata": {},
   "outputs": [],
   "source": [
    "results_df = pd.DataFrame.from_dict(all_results, orient='index', columns=['F1 Train', 'ROC Train', 'F1 Test', 'ROC Test'])\n",
    "results_df"
   ]
  },
  {
   "cell_type": "markdown",
   "metadata": {},
   "source": [
    "## Parameter Tuning"
   ]
  },
  {
   "cell_type": "code",
   "execution_count": null,
   "metadata": {},
   "outputs": [],
   "source": [
    "best_classifier =  LogisticRegression(maxIter=10)\n",
    "\n",
    "vectorAssembler = VectorAssembler(inputCols=features, \\\n",
    "                                      outputCol=\"unscaled_features\"\n",
    "                                     )\n",
    "standardScaler = StandardScaler(inputCol=\"unscaled_features\", \n",
    "                                    outputCol=\"features\"\n",
    "                                   )\n",
    "stages = [vectorAssembler, standardScaler, best_classifier]\n",
    "pipeline = Pipeline(stages=stages)\n",
    "    \n",
    "\n",
    "paramGrid = ParamGridBuilder() \\\n",
    "            .addGrid(best_classifier.regParam, [0.01, 0.1,]) \\\n",
    "            .addGrid(best_classifier.elasticNetParam, [0.0, 0.5, 1.0])\\\n",
    "            .build()\n",
    "\n",
    "crossval = CrossValidator(estimator=pipeline,\n",
    "                          estimatorParamMaps=paramGrid,\n",
    "                          evaluator=MulticlassClassificationEvaluator(),\n",
    "                          numFolds=3\n",
    "                          )"
   ]
  },
  {
   "cell_type": "code",
   "execution_count": null,
   "metadata": {},
   "outputs": [],
   "source": [
    "cv_model = crossval.fit(train)\n",
    "predictions = cv_model.transform(test)\n",
    "binary_evaluator = BinaryClassificationEvaluator(labelCol='label')\n",
    "multi_evaluator = MulticlassClassificationEvaluator(labelCol='label')\n",
    "print(\"Area Under ROC\", binary_evaluator.evaluate(predictions))\n",
    "print(\"F1\", multi_evaluator.evaluate(predictions))"
   ]
  },
  {
   "cell_type": "markdown",
   "metadata": {},
   "source": [
    "# Final Steps\n",
    "Clean up your code, adding comments and renaming variables to make the code easier to read and maintain. Refer to the Spark Project Overview page and Data Scientist Capstone Project Rubric to make sure you are including all components of the capstone project and meet all expectations. Remember, this includes thorough documentation in a README file in a Github repository, as well as a web app or blog post."
   ]
  },
  {
   "cell_type": "code",
   "execution_count": null,
   "metadata": {},
   "outputs": [],
   "source": []
  },
  {
   "cell_type": "code",
   "execution_count": null,
   "metadata": {},
   "outputs": [],
   "source": []
  },
  {
   "cell_type": "code",
   "execution_count": null,
   "metadata": {},
   "outputs": [],
   "source": []
  }
 ],
 "metadata": {
  "kernelspec": {
   "display_name": "Python 3",
   "language": "python",
   "name": "python3"
  },
  "language_info": {
   "codemirror_mode": {
    "name": "ipython",
    "version": 3
   },
   "file_extension": ".py",
   "mimetype": "text/x-python",
   "name": "python",
   "nbconvert_exporter": "python",
   "pygments_lexer": "ipython3",
   "version": "3.8.5"
  }
 },
 "nbformat": 4,
 "nbformat_minor": 2
}
