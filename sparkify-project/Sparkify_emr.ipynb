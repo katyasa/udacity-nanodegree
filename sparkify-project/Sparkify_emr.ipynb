{
 "cells": [
  {
   "cell_type": "code",
   "execution_count": 1,
   "id": "f2a6dbd9",
   "metadata": {},
   "outputs": [
    {
     "data": {
      "application/vnd.jupyter.widget-view+json": {
       "model_id": "36fd393e5daa4d23b8a3cf00fb715e00",
       "version_major": 2,
       "version_minor": 0
      },
      "text/plain": [
       "VBox()"
      ]
     },
     "metadata": {},
     "output_type": "display_data"
    },
    {
     "name": "stdout",
     "output_type": "stream",
     "text": [
      "Starting Spark application\n"
     ]
    },
    {
     "data": {
      "text/html": [
       "<table>\n",
       "<tr><th>ID</th><th>YARN Application ID</th><th>Kind</th><th>State</th><th>Spark UI</th><th>Driver log</th><th>Current session?</th></tr><tr><td>8</td><td>application_1628680054971_0009</td><td>pyspark</td><td>idle</td><td><a target=\"_blank\" href=\"http://ip-172-31-30-95.us-east-2.compute.internal:20888/proxy/application_1628680054971_0009/\">Link</a></td><td><a target=\"_blank\" href=\"http://ip-172-31-20-149.us-east-2.compute.internal:8042/node/containerlogs/container_1628680054971_0009_01_000001/livy\">Link</a></td><td>✔</td></tr></table>"
      ],
      "text/plain": [
       "<IPython.core.display.HTML object>"
      ]
     },
     "metadata": {},
     "output_type": "display_data"
    },
    {
     "data": {
      "application/vnd.jupyter.widget-view+json": {
       "model_id": "",
       "version_major": 2,
       "version_minor": 0
      },
      "text/plain": [
       "FloatProgress(value=0.0, bar_style='info', description='Progress:', layout=Layout(height='25px', width='50%'),…"
      ]
     },
     "metadata": {},
     "output_type": "display_data"
    },
    {
     "name": "stdout",
     "output_type": "stream",
     "text": [
      "SparkSession available as 'spark'.\n"
     ]
    },
    {
     "data": {
      "application/vnd.jupyter.widget-view+json": {
       "model_id": "",
       "version_major": 2,
       "version_minor": 0
      },
      "text/plain": [
       "FloatProgress(value=0.0, bar_style='info', description='Progress:', layout=Layout(height='25px', width='50%'),…"
      ]
     },
     "metadata": {},
     "output_type": "display_data"
    }
   ],
   "source": [
    "# import libraries\n",
    "\n",
    "## the below give an error - package not found.\n",
    "#sc.install_pypi_package(\"pandas==0.25.1\")\n",
    "#sc.install_pypi_package(\"matplotlib\", \"https://pypi.org/simple\")\n",
    "#sc.install_pypi_package(\"scikit-learn\")\n",
    "\n",
    "from pyspark.sql import SparkSession\n",
    "from pyspark.context import SparkContext as sc\n",
    "from pyspark.sql.types import IntegerType, LongType, TimestampType\n",
    "from pyspark import SparkContext\n",
    "from pyspark.sql.window import Window\n",
    "from pyspark.sql.functions import *\n",
    "from pyspark.ml.feature import VectorAssembler, StandardScaler\n",
    "from pyspark.ml import Pipeline\n",
    "from pyspark.ml.classification import RandomForestClassifier, LogisticRegression, GBTClassifier\n",
    "from pyspark.ml.evaluation import BinaryClassificationEvaluator, MulticlassClassificationEvaluator\n",
    "from pyspark.ml.tuning import ParamGridBuilder, CrossValidator\n",
    "\n",
    "import datetime\n",
    "#import matplotlib.pyplot as plt\n",
    "#import pandas as pd"
   ]
  },
  {
   "cell_type": "code",
   "execution_count": 3,
   "id": "e0f73dd7",
   "metadata": {},
   "outputs": [
    {
     "data": {
      "application/vnd.jupyter.widget-view+json": {
       "model_id": "c4b94cbbea5e4ce3a51743cd3dd567f8",
       "version_major": 2,
       "version_minor": 0
      },
      "text/plain": [
       "VBox()"
      ]
     },
     "metadata": {},
     "output_type": "display_data"
    },
    {
     "data": {
      "application/vnd.jupyter.widget-view+json": {
       "model_id": "",
       "version_major": 2,
       "version_minor": 0
      },
      "text/plain": [
       "FloatProgress(value=0.0, bar_style='info', description='Progress:', layout=Layout(height='25px', width='50%'),…"
      ]
     },
     "metadata": {},
     "output_type": "display_data"
    }
   ],
   "source": [
    "# Create spark session\n",
    "spark = SparkSession \\\n",
    "    .builder \\\n",
    "    .appName(\"Sparkify\") \\\n",
    "    .getOrCreate()"
   ]
  },
  {
   "cell_type": "markdown",
   "id": "284a947b",
   "metadata": {},
   "source": [
    "# Load and Clean Dataset"
   ]
  },
  {
   "cell_type": "code",
   "execution_count": 4,
   "id": "95093a87",
   "metadata": {},
   "outputs": [
    {
     "data": {
      "application/vnd.jupyter.widget-view+json": {
       "model_id": "13643429b7344d019ecd798b18c4e916",
       "version_major": 2,
       "version_minor": 0
      },
      "text/plain": [
       "VBox()"
      ]
     },
     "metadata": {},
     "output_type": "display_data"
    },
    {
     "data": {
      "application/vnd.jupyter.widget-view+json": {
       "model_id": "",
       "version_major": 2,
       "version_minor": 0
      },
      "text/plain": [
       "FloatProgress(value=0.0, bar_style='info', description='Progress:', layout=Layout(height='25px', width='50%'),…"
      ]
     },
     "metadata": {},
     "output_type": "display_data"
    },
    {
     "name": "stdout",
     "output_type": "stream",
     "text": [
      "Row(artist='Popol Vuh', auth='Logged In', firstName='Shlok', gender='M', itemInSession=278, lastName='Johnson', length=524.32934, level='paid', location='Dallas-Fort Worth-Arlington, TX', method='PUT', page='NextSong', registration=1533734541000, sessionId=22683, song='Ich mache einen Spiegel - Dream Part 4', status=200, ts=1538352001000, userAgent='\"Mozilla/5.0 (Windows NT 6.1; WOW64) AppleWebKit/537.36 (KHTML, like Gecko) Chrome/36.0.1985.143 Safari/537.36\"', userId='1749042')"
     ]
    }
   ],
   "source": [
    "# Read in full sparkify dataset\n",
    "event_data = \"s3n://udacity-dsnd/sparkify/sparkify_event_data.json\"\n",
    "df = spark.read.json(event_data)\n",
    "df.head()"
   ]
  },
  {
   "cell_type": "code",
   "execution_count": 5,
   "id": "59b19508",
   "metadata": {},
   "outputs": [
    {
     "data": {
      "application/vnd.jupyter.widget-view+json": {
       "model_id": "882e69c1139e48b4b404e11b8d0ea72e",
       "version_major": 2,
       "version_minor": 0
      },
      "text/plain": [
       "VBox()"
      ]
     },
     "metadata": {},
     "output_type": "display_data"
    },
    {
     "data": {
      "application/vnd.jupyter.widget-view+json": {
       "model_id": "",
       "version_major": 2,
       "version_minor": 0
      },
      "text/plain": [
       "FloatProgress(value=0.0, bar_style='info', description='Progress:', layout=Layout(height='25px', width='50%'),…"
      ]
     },
     "metadata": {},
     "output_type": "display_data"
    },
    {
     "name": "stdout",
     "output_type": "stream",
     "text": [
      "root\n",
      " |-- artist: string (nullable = true)\n",
      " |-- auth: string (nullable = true)\n",
      " |-- firstName: string (nullable = true)\n",
      " |-- gender: string (nullable = true)\n",
      " |-- itemInSession: long (nullable = true)\n",
      " |-- lastName: string (nullable = true)\n",
      " |-- length: double (nullable = true)\n",
      " |-- level: string (nullable = true)\n",
      " |-- location: string (nullable = true)\n",
      " |-- method: string (nullable = true)\n",
      " |-- page: string (nullable = true)\n",
      " |-- registration: long (nullable = true)\n",
      " |-- sessionId: long (nullable = true)\n",
      " |-- song: string (nullable = true)\n",
      " |-- status: long (nullable = true)\n",
      " |-- ts: long (nullable = true)\n",
      " |-- userAgent: string (nullable = true)\n",
      " |-- userId: string (nullable = true)"
     ]
    }
   ],
   "source": [
    "df.printSchema()"
   ]
  },
  {
   "cell_type": "code",
   "execution_count": 6,
   "id": "697f2654",
   "metadata": {},
   "outputs": [
    {
     "data": {
      "application/vnd.jupyter.widget-view+json": {
       "model_id": "fd579a20a41f4968bfb05de21d608b02",
       "version_major": 2,
       "version_minor": 0
      },
      "text/plain": [
       "VBox()"
      ]
     },
     "metadata": {},
     "output_type": "display_data"
    },
    {
     "data": {
      "application/vnd.jupyter.widget-view+json": {
       "model_id": "",
       "version_major": 2,
       "version_minor": 0
      },
      "text/plain": [
       "FloatProgress(value=0.0, bar_style='info', description='Progress:', layout=Layout(height='25px', width='50%'),…"
      ]
     },
     "metadata": {},
     "output_type": "display_data"
    },
    {
     "name": "stdout",
     "output_type": "stream",
     "text": [
      "Row(artist='Popol Vuh', auth='Logged In', firstName='Shlok', gender='M', itemInSession=278, lastName='Johnson', length=524.32934, level='paid', location='Dallas-Fort Worth-Arlington, TX', method='PUT', page='NextSong', registration=1533734541000, sessionId=22683, song='Ich mache einen Spiegel - Dream Part 4', status=200, ts=1538352001000, userAgent='\"Mozilla/5.0 (Windows NT 6.1; WOW64) AppleWebKit/537.36 (KHTML, like Gecko) Chrome/36.0.1985.143 Safari/537.36\"', userId='1749042')"
     ]
    }
   ],
   "source": [
    "# drop null values and empty user IDs\n",
    "\n",
    "df_valid = df.dropna(how=\"any\")\n",
    "df_valid = df_valid.select(\"userId\").dropDuplicates().sort(\"userId\")\n",
    "df_valid = df.filter(df[\"userId\"] != \"\")\n",
    "df_valid.describe()\n",
    "df_valid.head()"
   ]
  },
  {
   "cell_type": "markdown",
   "id": "f24fd24b",
   "metadata": {},
   "source": [
    "# Feature Engineering"
   ]
  },
  {
   "cell_type": "markdown",
   "id": "3be3dff0",
   "metadata": {},
   "source": [
    "### Define Churn\n",
    "\n",
    "Next, we define churn - this in terms of cancellation confirmation and downgrade-related events. Even if dowgrade does not necessarily mean the customer would definitely leave, it is an indicator of potentially decreasing customer satisfaction, lower revenue for the streaming service and also an indicator that the customer might change their mind if they're shown some love and attention. So these are the events we want to be able to identify. "
   ]
  },
  {
   "cell_type": "code",
   "execution_count": 8,
   "id": "b01b6484",
   "metadata": {},
   "outputs": [
    {
     "data": {
      "application/vnd.jupyter.widget-view+json": {
       "model_id": "e6dcf731c58a44b1a496de006f0a44be",
       "version_major": 2,
       "version_minor": 0
      },
      "text/plain": [
       "VBox()"
      ]
     },
     "metadata": {},
     "output_type": "display_data"
    },
    {
     "data": {
      "application/vnd.jupyter.widget-view+json": {
       "model_id": "",
       "version_major": 2,
       "version_minor": 0
      },
      "text/plain": [
       "FloatProgress(value=0.0, bar_style='info', description='Progress:', layout=Layout(height='25px', width='50%'),…"
      ]
     },
     "metadata": {},
     "output_type": "display_data"
    }
   ],
   "source": [
    "def is_churn_event(x):\n",
    "    '''Flags churn events. Returns 1 for churn, 0 for no-churn.'''\n",
    "\n",
    "    if x in [\"Cancellation Confirmation\", \"Downgrade\", \"Submit Downgrade\"]:\n",
    "        return 1\n",
    "    else:\n",
    "        return 0"
   ]
  },
  {
   "cell_type": "markdown",
   "id": "1aefd5fe",
   "metadata": {},
   "source": [
    "### Define Happy and Unhappy User Behaviours\n",
    "\n",
    "The Page column includes other user behaviours that are essential for the analysis - I split them into positive/ happy user events and negative/ unhappy events. "
   ]
  },
  {
   "cell_type": "code",
   "execution_count": 9,
   "id": "8f23f783",
   "metadata": {},
   "outputs": [
    {
     "data": {
      "application/vnd.jupyter.widget-view+json": {
       "model_id": "9d165b865eb049bba153d3676054068a",
       "version_major": 2,
       "version_minor": 0
      },
      "text/plain": [
       "VBox()"
      ]
     },
     "metadata": {},
     "output_type": "display_data"
    },
    {
     "data": {
      "application/vnd.jupyter.widget-view+json": {
       "model_id": "",
       "version_major": 2,
       "version_minor": 0
      },
      "text/plain": [
       "FloatProgress(value=0.0, bar_style='info', description='Progress:', layout=Layout(height='25px', width='50%'),…"
      ]
     },
     "metadata": {},
     "output_type": "display_data"
    }
   ],
   "source": [
    "def is_happy_event(x):\n",
    "    '''Flags happy events. Returns 1 for happy events, 0 otherwise.'''\n",
    "\n",
    "    if x in [\n",
    "            \"NextSong\", \"Thumbs Up\", \"Add Friend\", \"Add to Playlist\", \"Upgrade\",\n",
    "            \"Submit Upgrade\"\n",
    "    ]:\n",
    "        return 1\n",
    "    else:\n",
    "        return 0\n",
    "\n",
    "\n",
    "def is_unhappy_event(x):\n",
    "    '''Flags unhappy events. Returns 1 for unhappy events, 0 otherwise.'''\n",
    "\n",
    "    if x in [\n",
    "            \"Thumbs Down\",\n",
    "            \"Error\",\n",
    "            \"Cancel\",\n",
    "    ]:\n",
    "        return 1\n",
    "    else:\n",
    "        return 0"
   ]
  },
  {
   "cell_type": "code",
   "execution_count": 10,
   "id": "b096626a",
   "metadata": {},
   "outputs": [
    {
     "data": {
      "application/vnd.jupyter.widget-view+json": {
       "model_id": "b0356848770f44a6899448189f8b21d4",
       "version_major": 2,
       "version_minor": 0
      },
      "text/plain": [
       "VBox()"
      ]
     },
     "metadata": {},
     "output_type": "display_data"
    },
    {
     "data": {
      "application/vnd.jupyter.widget-view+json": {
       "model_id": "",
       "version_major": 2,
       "version_minor": 0
      },
      "text/plain": [
       "FloatProgress(value=0.0, bar_style='info', description='Progress:', layout=Layout(height='25px', width='50%'),…"
      ]
     },
     "metadata": {},
     "output_type": "display_data"
    }
   ],
   "source": [
    "## define UDFs\n",
    "\n",
    "churn_event = udf(is_churn_event, IntegerType())\n",
    "happy_event = udf(is_happy_event, IntegerType())\n",
    "unhappy_event = udf(is_unhappy_event, IntegerType())\n",
    "\n",
    "get_hour = udf(lambda x: datetime.datetime.fromtimestamp(x / 1000.0).hour)\n",
    "get_day = udf(lambda x: datetime.datetime.fromtimestamp(x / 1000.0).day)"
   ]
  },
  {
   "cell_type": "code",
   "execution_count": 11,
   "id": "a76f1108",
   "metadata": {},
   "outputs": [
    {
     "data": {
      "application/vnd.jupyter.widget-view+json": {
       "model_id": "b5ebc34498b44a76a0065003e5eced48",
       "version_major": 2,
       "version_minor": 0
      },
      "text/plain": [
       "VBox()"
      ]
     },
     "metadata": {},
     "output_type": "display_data"
    },
    {
     "data": {
      "application/vnd.jupyter.widget-view+json": {
       "model_id": "",
       "version_major": 2,
       "version_minor": 0
      },
      "text/plain": [
       "FloatProgress(value=0.0, bar_style='info', description='Progress:', layout=Layout(height='25px', width='50%'),…"
      ]
     },
     "metadata": {},
     "output_type": "display_data"
    }
   ],
   "source": [
    "## Add Churn/ Happy / Unhappy events to dataframe\n",
    "## Add Hour / Day / Interaction time features to dataframe\n",
    "df_valid =  df_valid.withColumn(\"churn\", churn_event(\"page\"))\\\n",
    "            .withColumn(\"happyEvent\", happy_event(\"page\"))\\\n",
    "            .withColumn(\"unhappyEvent\", unhappy_event(\"page\"))\\\n",
    "            .withColumn(\"hour\", get_hour(\"ts\").cast('int'))\\\n",
    "            .withColumn(\"day\", get_day(\"ts\").cast('int'))\\\n",
    "            .withColumn('interactionTime', from_unixtime(col('ts').cast(LongType())/1000).cast(TimestampType()))\n",
    "\n",
    "# Flag rows for churn / happy / unhappy events.\n",
    "user_window = Window\\\n",
    "                .partitionBy(\"userId\")\\\n",
    "                .orderBy(desc(\"ts\"))\\\n",
    "                .rangeBetween(Window.unboundedPreceding, 0)\n",
    "\n",
    "df_valid = df_valid\\\n",
    "            .withColumn(\"churn\", max(\"churn\").over(user_window))\\\n",
    "            .withColumn(\"happyEvent\", max(\"happyEvent\").over(user_window))\\\n",
    "            .withColumn(\"unhappyEvent\", max(\"unhappyEvent\").over(user_window))"
   ]
  },
  {
   "cell_type": "code",
   "execution_count": 12,
   "id": "4b7d51ff",
   "metadata": {},
   "outputs": [
    {
     "data": {
      "application/vnd.jupyter.widget-view+json": {
       "model_id": "930b912e39054c8591c64cab66e3ab3c",
       "version_major": 2,
       "version_minor": 0
      },
      "text/plain": [
       "VBox()"
      ]
     },
     "metadata": {},
     "output_type": "display_data"
    },
    {
     "data": {
      "application/vnd.jupyter.widget-view+json": {
       "model_id": "",
       "version_major": 2,
       "version_minor": 0
      },
      "text/plain": [
       "FloatProgress(value=0.0, bar_style='info', description='Progress:', layout=Layout(height='25px', width='50%'),…"
      ]
     },
     "metadata": {},
     "output_type": "display_data"
    },
    {
     "name": "stdout",
     "output_type": "stream",
     "text": [
      "[Row(artist=None, auth='Cancelled', firstName='Frank', gender='M', itemInSession=138, lastName='Warren', length=None, level='free', location='Findlay, OH', method='GET', page='Cancellation Confirmation', registration=1535470939000, sessionId=25840, song=None, status=200, ts=1542149985000, userAgent='Mozilla/5.0 (Windows NT 5.1; rv:31.0) Gecko/20100101 Firefox/31.0', userId='1000280', churn=1, happyEvent=0, unhappyEvent=0, hour=22, day=13, interactionTime=datetime.datetime(2018, 11, 13, 22, 59, 45))]\n",
      "----------------------------------------\n",
      "Exception happened during processing of request from ('127.0.0.1', 59462)\n",
      "Traceback (most recent call last):\n",
      "  File \"/usr/lib64/python3.6/socketserver.py\", line 320, in _handle_request_noblock\n",
      "    self.process_request(request, client_address)\n",
      "  File \"/usr/lib64/python3.6/socketserver.py\", line 351, in process_request\n",
      "    self.finish_request(request, client_address)\n",
      "  File \"/usr/lib64/python3.6/socketserver.py\", line 364, in finish_request\n",
      "    self.RequestHandlerClass(request, client_address, self)\n",
      "  File \"/usr/lib64/python3.6/socketserver.py\", line 724, in __init__\n",
      "    self.handle()\n",
      "  File \"/usr/lib/spark/python/lib/pyspark.zip/pyspark/accumulators.py\", line 266, in handle\n",
      "    poll(authenticate_and_accum_updates)\n",
      "  File \"/usr/lib/spark/python/lib/pyspark.zip/pyspark/accumulators.py\", line 241, in poll\n",
      "    if func():\n",
      "  File \"/usr/lib/spark/python/lib/pyspark.zip/pyspark/accumulators.py\", line 254, in authenticate_and_accum_updates\n",
      "    received_token = self.rfile.read(len(auth_token))\n",
      "TypeError: object of type 'NoneType' has no len()\n",
      "----------------------------------------"
     ]
    }
   ],
   "source": [
    "df_valid.take(1)"
   ]
  },
  {
   "cell_type": "code",
   "execution_count": 25,
   "id": "ca738628",
   "metadata": {},
   "outputs": [
    {
     "data": {
      "application/vnd.jupyter.widget-view+json": {
       "model_id": "fa7c46a27b0b4d33b8772536ce2d6a4c",
       "version_major": 2,
       "version_minor": 0
      },
      "text/plain": [
       "VBox()"
      ]
     },
     "metadata": {},
     "output_type": "display_data"
    },
    {
     "data": {
      "application/vnd.jupyter.widget-view+json": {
       "model_id": "",
       "version_major": 2,
       "version_minor": 0
      },
      "text/plain": [
       "FloatProgress(value=0.0, bar_style='info', description='Progress:', layout=Layout(height='25px', width='50%'),…"
      ]
     },
     "metadata": {},
     "output_type": "display_data"
    }
   ],
   "source": [
    "# number of songs played\n",
    "songs_count_df = df_valid.select(['userId', 'page',]).where(df.page == 'NextSong') \\\n",
    "                                .groupby('userId') \\\n",
    "                                .agg({'page': 'count'}) \\\n",
    "                                .withColumnRenamed('count(page)', 'songsCount')"
   ]
  },
  {
   "cell_type": "code",
   "execution_count": 26,
   "id": "8d2f45b7",
   "metadata": {},
   "outputs": [
    {
     "data": {
      "application/vnd.jupyter.widget-view+json": {
       "model_id": "7893dda7609e406ab9860388983c1f9c",
       "version_major": 2,
       "version_minor": 0
      },
      "text/plain": [
       "VBox()"
      ]
     },
     "metadata": {},
     "output_type": "display_data"
    },
    {
     "data": {
      "application/vnd.jupyter.widget-view+json": {
       "model_id": "",
       "version_major": 2,
       "version_minor": 0
      },
      "text/plain": [
       "FloatProgress(value=0.0, bar_style='info', description='Progress:', layout=Layout(height='25px', width='50%'),…"
      ]
     },
     "metadata": {},
     "output_type": "display_data"
    }
   ],
   "source": [
    "#count number of sessions\n",
    "\n",
    "sessions_count_df = df_valid.select(['userId', 'sessionId'])\\\n",
    "                            .groupby('userId')\\\n",
    "                            .agg({'sessionId': 'count'})\\\n",
    "                            .withColumnRenamed('count(sessionId)', 'sessionsCount')"
   ]
  },
  {
   "cell_type": "code",
   "execution_count": 27,
   "id": "751c5027",
   "metadata": {},
   "outputs": [
    {
     "data": {
      "application/vnd.jupyter.widget-view+json": {
       "model_id": "b0416f2f699b455eb21219bf5e9a9de8",
       "version_major": 2,
       "version_minor": 0
      },
      "text/plain": [
       "VBox()"
      ]
     },
     "metadata": {},
     "output_type": "display_data"
    },
    {
     "data": {
      "application/vnd.jupyter.widget-view+json": {
       "model_id": "",
       "version_major": 2,
       "version_minor": 0
      },
      "text/plain": [
       "FloatProgress(value=0.0, bar_style='info', description='Progress:', layout=Layout(height='25px', width='50%'),…"
      ]
     },
     "metadata": {},
     "output_type": "display_data"
    }
   ],
   "source": [
    "#membership period\n",
    "membership_days_df = df_valid.select(['userId', 'day'])\\\n",
    "                            .groupby('userId')\\\n",
    "                            .agg(max('day'))\\\n",
    "                            .withColumnRenamed('max(day)', 'membershipDays')"
   ]
  },
  {
   "cell_type": "code",
   "execution_count": 28,
   "id": "629ec6a2",
   "metadata": {},
   "outputs": [
    {
     "data": {
      "application/vnd.jupyter.widget-view+json": {
       "model_id": "572063731f214cd6b14e1141965aa024",
       "version_major": 2,
       "version_minor": 0
      },
      "text/plain": [
       "VBox()"
      ]
     },
     "metadata": {},
     "output_type": "display_data"
    },
    {
     "data": {
      "application/vnd.jupyter.widget-view+json": {
       "model_id": "",
       "version_major": 2,
       "version_minor": 0
      },
      "text/plain": [
       "FloatProgress(value=0.0, bar_style='info', description='Progress:', layout=Layout(height='25px', width='50%'),…"
      ]
     },
     "metadata": {},
     "output_type": "display_data"
    }
   ],
   "source": [
    "#happy events count\n",
    "happy_events_count_df = df_valid.select(['userId', 'happyEvent',])\\\n",
    "                                .groupby('userId') \\\n",
    "                                .agg(sum('happyEvent'))\\\n",
    "                                .withColumnRenamed('sum(happyEvent)','happyEventCount')"
   ]
  },
  {
   "cell_type": "code",
   "execution_count": 29,
   "id": "83472c1b",
   "metadata": {},
   "outputs": [
    {
     "data": {
      "application/vnd.jupyter.widget-view+json": {
       "model_id": "e75b063db1194a0d96c10d229334c0be",
       "version_major": 2,
       "version_minor": 0
      },
      "text/plain": [
       "VBox()"
      ]
     },
     "metadata": {},
     "output_type": "display_data"
    },
    {
     "data": {
      "application/vnd.jupyter.widget-view+json": {
       "model_id": "",
       "version_major": 2,
       "version_minor": 0
      },
      "text/plain": [
       "FloatProgress(value=0.0, bar_style='info', description='Progress:', layout=Layout(height='25px', width='50%'),…"
      ]
     },
     "metadata": {},
     "output_type": "display_data"
    }
   ],
   "source": [
    "unhappy_events_count_df = df_valid.select(['userId', 'unhappyEvent',])\\\n",
    "                                .groupby('userId') \\\n",
    "                                .agg(sum('unhappyEvent'))\\\n",
    "                                .withColumnRenamed('sum(unhappyEvent)','unhappyEventCount')"
   ]
  },
  {
   "cell_type": "code",
   "execution_count": 30,
   "id": "7d29f087",
   "metadata": {},
   "outputs": [
    {
     "data": {
      "application/vnd.jupyter.widget-view+json": {
       "model_id": "e9f2cdc028f847a1abce29eb34ac1e0d",
       "version_major": 2,
       "version_minor": 0
      },
      "text/plain": [
       "VBox()"
      ]
     },
     "metadata": {},
     "output_type": "display_data"
    },
    {
     "data": {
      "application/vnd.jupyter.widget-view+json": {
       "model_id": "",
       "version_major": 2,
       "version_minor": 0
      },
      "text/plain": [
       "FloatProgress(value=0.0, bar_style='info', description='Progress:', layout=Layout(height='25px', width='50%'),…"
      ]
     },
     "metadata": {},
     "output_type": "display_data"
    }
   ],
   "source": [
    "churn_event_df = df_valid.select(['userId', 'churn',])\\\n",
    "                                .groupby('userId')\\\n",
    "                                .agg(max('churn'))\\\n",
    "                                .withColumnRenamed('max(churn)', 'label')"
   ]
  },
  {
   "cell_type": "code",
   "execution_count": 31,
   "id": "44398454",
   "metadata": {},
   "outputs": [
    {
     "data": {
      "application/vnd.jupyter.widget-view+json": {
       "model_id": "16929daa4a1749f4aada16302d5ca717",
       "version_major": 2,
       "version_minor": 0
      },
      "text/plain": [
       "VBox()"
      ]
     },
     "metadata": {},
     "output_type": "display_data"
    },
    {
     "data": {
      "application/vnd.jupyter.widget-view+json": {
       "model_id": "",
       "version_major": 2,
       "version_minor": 0
      },
      "text/plain": [
       "FloatProgress(value=0.0, bar_style='info', description='Progress:', layout=Layout(height='25px', width='50%'),…"
      ]
     },
     "metadata": {},
     "output_type": "display_data"
    }
   ],
   "source": [
    "data = songs_count_df.join(sessions_count_df, 'userId', 'outer') \\\n",
    "                     .join(membership_days_df, 'userId', 'outer')\\\n",
    "                     .join(happy_events_count_df, 'userId', 'outer')\\\n",
    "                     .join(unhappy_events_count_df, 'userId', 'outer')\\\n",
    "                     .join(churn_event_df, 'userId', 'outer')"
   ]
  },
  {
   "cell_type": "code",
   "execution_count": 32,
   "id": "b44c3587",
   "metadata": {},
   "outputs": [
    {
     "data": {
      "application/vnd.jupyter.widget-view+json": {
       "model_id": "f9879f2db6f04e06b4c829a7e9502066",
       "version_major": 2,
       "version_minor": 0
      },
      "text/plain": [
       "VBox()"
      ]
     },
     "metadata": {},
     "output_type": "display_data"
    },
    {
     "data": {
      "application/vnd.jupyter.widget-view+json": {
       "model_id": "",
       "version_major": 2,
       "version_minor": 0
      },
      "text/plain": [
       "FloatProgress(value=0.0, bar_style='info', description='Progress:', layout=Layout(height='25px', width='50%'),…"
      ]
     },
     "metadata": {},
     "output_type": "display_data"
    },
    {
     "name": "stdout",
     "output_type": "stream",
     "text": [
      "[Row(userId='1000280', songsCount=1022, sessionsCount=1317, membershipDays=26, happyEventCount=1314, unhappyEventCount=1316, label=1), Row(userId='1002185', songsCount=1778, sessionsCount=2080, membershipDays=28, happyEventCount=2080, unhappyEventCount=1968, label=1), Row(userId='1017805', songsCount=250, sessionsCount=320, membershipDays=27, happyEventCount=318, unhappyEventCount=149, label=1)]"
     ]
    }
   ],
   "source": [
    "data.take(3)"
   ]
  },
  {
   "cell_type": "code",
   "execution_count": 33,
   "id": "202a51d1",
   "metadata": {},
   "outputs": [
    {
     "data": {
      "application/vnd.jupyter.widget-view+json": {
       "model_id": "5c7eca7ca16b462ebd48f5ff845e02d6",
       "version_major": 2,
       "version_minor": 0
      },
      "text/plain": [
       "VBox()"
      ]
     },
     "metadata": {},
     "output_type": "display_data"
    },
    {
     "data": {
      "application/vnd.jupyter.widget-view+json": {
       "model_id": "",
       "version_major": 2,
       "version_minor": 0
      },
      "text/plain": [
       "FloatProgress(value=0.0, bar_style='info', description='Progress:', layout=Layout(height='25px', width='50%'),…"
      ]
     },
     "metadata": {},
     "output_type": "display_data"
    },
    {
     "name": "stdout",
     "output_type": "stream",
     "text": [
      "root\n",
      " |-- userId: string (nullable = true)\n",
      " |-- songsCount: long (nullable = true)\n",
      " |-- sessionsCount: long (nullable = true)\n",
      " |-- membershipDays: integer (nullable = true)\n",
      " |-- happyEventCount: long (nullable = true)\n",
      " |-- unhappyEventCount: long (nullable = true)\n",
      " |-- label: integer (nullable = true)"
     ]
    }
   ],
   "source": [
    "data.printSchema()"
   ]
  },
  {
   "cell_type": "markdown",
   "id": "509c96cf",
   "metadata": {},
   "source": [
    "# Modeling"
   ]
  },
  {
   "cell_type": "code",
   "execution_count": null,
   "id": "703c9230",
   "metadata": {},
   "outputs": [
    {
     "data": {
      "application/vnd.jupyter.widget-view+json": {
       "model_id": "7308c07c34d3427a8dfa81b22a52c98b",
       "version_major": 2,
       "version_minor": 0
      },
      "text/plain": [
       "VBox()"
      ]
     },
     "metadata": {},
     "output_type": "display_data"
    },
    {
     "data": {
      "application/vnd.jupyter.widget-view+json": {
       "model_id": "b312b5d5528240e3abd240a9ba690a2a",
       "version_major": 2,
       "version_minor": 0
      },
      "text/plain": [
       "FloatProgress(value=0.0, bar_style='info', description='Progress:', layout=Layout(height='25px', width='50%'),…"
      ]
     },
     "metadata": {},
     "output_type": "display_data"
    }
   ],
   "source": [
    "train, test = data.randomSplit([0.7, 0.3], seed=27)\n",
    "print(\"Training Dataset Count: \" + str(train.count()))\n",
    "print(\"Test Dataset Count: \" + str(test.count()))\n"
   ]
  },
  {
   "cell_type": "code",
   "execution_count": null,
   "id": "e9e3141a",
   "metadata": {},
   "outputs": [],
   "source": [
    "features = ['songsCount' , 'sessionsCount', \n",
    "            'membershipDays' , 'happyEventCount', \n",
    "            'unhappyEventCount' \n",
    "           ]\n",
    "\n",
    "classifiers = [ RandomForestClassifier(featuresCol = 'features', labelCol = 'label'), \n",
    "                LogisticRegression(featuresCol = 'features', labelCol = 'label', maxIter=10), \n",
    "                GBTClassifier(maxIter=10)\n",
    "              ]\n",
    "classifier_names = [ \"Random Forest Classifier\", \n",
    "                     \"Logistic Regression\", \n",
    "                     \"Gradient-Boosted Tree Classifier\"\n",
    "                   ]"
   ]
  },
  {
   "cell_type": "code",
   "execution_count": null,
   "id": "c1191991",
   "metadata": {},
   "outputs": [],
   "source": [
    "def build_model_pipeline (classifier, train): \n",
    "    \n",
    "    '''Input is a classifier and data for training\n",
    "    Returns fitted model. \n",
    "    '''\n",
    "    \n",
    "    vectorAssembler = VectorAssembler(inputCols=features, \\\n",
    "                                      outputCol=\"unscaled_features\"\n",
    "                                     )\n",
    "    standardScaler = StandardScaler(inputCol=\"unscaled_features\", \n",
    "                                    outputCol=\"features\"\n",
    "                                   )\n",
    "    stages = [vectorAssembler, standardScaler, classifier]\n",
    "    pipeline = Pipeline(stages=stages)\n",
    "    model = pipeline.fit(train)\n",
    "    \n",
    "    return model"
   ]
  },
  {
   "cell_type": "markdown",
   "id": "3a229ca8",
   "metadata": {},
   "source": [
    "# Evaluation"
   ]
  },
  {
   "cell_type": "code",
   "execution_count": null,
   "id": "6bde2127",
   "metadata": {},
   "outputs": [],
   "source": [
    "def evaluate_model (model, train, test):\n",
    "    \n",
    "    '''Takes as input a fitted model, train data and test data.\n",
    "    Returns evaluation results: \n",
    "    f1 score on train data\n",
    "    ROC AUC metric on train data\n",
    "    f1 score on test data\n",
    "    ROC AUC metric on test data\n",
    "    '''\n",
    "    \n",
    "    # instantiate evaluators \n",
    "    binary_evaluator = BinaryClassificationEvaluator(labelCol='label')\n",
    "    multi_evaluator = MulticlassClassificationEvaluator(labelCol='label')\n",
    "    \n",
    "    # make predictions  \n",
    "    predictions_train = model.transform(train)\n",
    "    predictions_test = model.transform(test)\n",
    "    \n",
    "    f1_train = multi_evaluator.evaluate(predictions_train, {multi_evaluator.metricName: 'f1'})\n",
    "    roc_train = binary_evaluator.evaluate(predictions_train, {binary_evaluator.metricName: 'areaUnderROC'})\n",
    "    \n",
    "    f1_test = multi_evaluator.evaluate(predictions_test, {multi_evaluator.metricName: 'f1'})\n",
    "    roc_test = binary_evaluator.evaluate(predictions_test, {binary_evaluator.metricName: 'areaUnderROC'})\n",
    "    \n",
    "    results = [ f1_train, roc_train, f1_test, roc_test ]\n",
    "    return results\n",
    "\n",
    "\n",
    "    "
   ]
  },
  {
   "cell_type": "code",
   "execution_count": null,
   "id": "0cfecae6",
   "metadata": {},
   "outputs": [],
   "source": [
    "all_results = dict()\n",
    "\n",
    "for classifier, name in zip(classifiers, classifier_names):\n",
    "    \n",
    "    model = build_model_pipeline(classifier, train)\n",
    "    result = evaluate_model(model, train, test)\n",
    "    all_results[name] = result\n",
    "    \n"
   ]
  },
  {
   "cell_type": "code",
   "execution_count": null,
   "id": "721d243e",
   "metadata": {},
   "outputs": [],
   "source": [
    "best_classifier =  LogisticRegression(maxIter=10)\n",
    "\n",
    "vectorAssembler = VectorAssembler(inputCols=features, \\\n",
    "                                      outputCol=\"unscaled_features\"\n",
    "                                     )\n",
    "standardScaler = StandardScaler(inputCol=\"unscaled_features\", \n",
    "                                    outputCol=\"features\"\n",
    "                                   )\n",
    "stages = [vectorAssembler, standardScaler, best_classifier]\n",
    "pipeline = Pipeline(stages=stages)\n",
    "    \n",
    "\n",
    "paramGrid = ParamGridBuilder() \\\n",
    "            .addGrid(best_classifier.regParam, [0.01, 0.1,]) \\\n",
    "            .addGrid(best_classifier.elasticNetParam, [0.0, 0.5, 1.0])\\\n",
    "            .build()\n",
    "\n",
    "crossval = CrossValidator(estimator=pipeline,\n",
    "                          estimatorParamMaps=paramGrid,\n",
    "                          evaluator=MulticlassClassificationEvaluator(),\n",
    "                          numFolds=3\n",
    "                          )"
   ]
  },
  {
   "cell_type": "code",
   "execution_count": null,
   "id": "335c6884",
   "metadata": {},
   "outputs": [],
   "source": [
    "cv_model = crossval.fit(train)\n",
    "predictions = cv_model.transform(test)\n",
    "binary_evaluator = BinaryClassificationEvaluator(labelCol='label')\n",
    "multi_evaluator = MulticlassClassificationEvaluator(labelCol='label')\n",
    "print(\"Area Under ROC\", binary_evaluator.evaluate(predictions))\n",
    "print(\"F1\", multi_evaluator.evaluate(predictions))"
   ]
  },
  {
   "cell_type": "code",
   "execution_count": null,
   "id": "a44906b7",
   "metadata": {},
   "outputs": [],
   "source": []
  }
 ],
 "metadata": {
  "kernelspec": {
   "display_name": "PySpark",
   "language": "",
   "name": "pysparkkernel"
  },
  "language_info": {
   "codemirror_mode": {
    "name": "python",
    "version": 2
   },
   "mimetype": "text/x-python",
   "name": "pyspark",
   "pygments_lexer": "python2"
  }
 },
 "nbformat": 4,
 "nbformat_minor": 5
}
